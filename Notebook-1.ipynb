{
    "metadata": {
        "kernelspec": {
            "name": "SQL",
            "display_name": "SQL",
            "language": "sql"
        },
        "language_info": {
            "name": "sql",
            "version": ""
        }
    },
    "nbformat_minor": 2,
    "nbformat": 4,
    "cells": [
        {
            "cell_type": "markdown",
            "source": [
                "## Estudo SQL Server\n",
                "\n",
                "## Comandos do dia a dia"
            ],
            "metadata": {
                "azdata_cell_guid": "254d1f4c-6458-4730-a3e5-15b4824e8ebd"
            },
            "attachments": {}
        },
        {
            "cell_type": "code",
            "source": [
                "print('teste')"
            ],
            "metadata": {
                "azdata_cell_guid": "4b511926-0318-403d-8332-f4e43740f42d",
                "language": "sql"
            },
            "outputs": [
                {
                    "output_type": "display_data",
                    "data": {
                        "text/html": "teste"
                    },
                    "metadata": {}
                },
                {
                    "output_type": "display_data",
                    "data": {
                        "text/html": "Total execution time: 00:00:00.052"
                    },
                    "metadata": {}
                }
            ],
            "execution_count": 2
        },
        {
            "cell_type": "markdown",
            "source": [
                ""
            ],
            "metadata": {
                "azdata_cell_guid": "44fcb40a-aaed-42cf-aee5-f0f74da46111"
            }
        },
        {
            "cell_type": "code",
            "source": [
                "select * from [TABELA DE CLIENTES]"
            ],
            "metadata": {
                "azdata_cell_guid": "4b70d7b1-d19d-4bb3-9393-dced954b2d54",
                "language": "sql"
            },
            "outputs": [
                {
                    "output_type": "error",
                    "evalue": "Msg 208, Level 16, State 1, Line 1\nInvalid object name 'TABELA DE CLIENTES'.",
                    "ename": "",
                    "traceback": []
                },
                {
                    "output_type": "display_data",
                    "data": {
                        "text/html": "Total execution time: 00:00:00.001"
                    },
                    "metadata": {}
                }
            ],
            "execution_count": 3
        }
    ]
}